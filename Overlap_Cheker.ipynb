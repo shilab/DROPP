{
 "cells": [
  {
   "cell_type": "code",
   "execution_count": 1,
   "metadata": {
    "ExecuteTime": {
     "end_time": "2021-04-14T15:24:16.749620Z",
     "start_time": "2021-04-14T15:23:59.684563Z"
    }
   },
   "outputs": [],
   "source": [
    "import numpy as np\n",
    "np.random.seed(seed=28213)\n",
    "import pandas as pd\n",
    "from sklearn.metrics import mean_squared_error, accuracy_score, f1_score, make_scorer\n",
    "from sklearn.model_selection import train_test_split, cross_val_score\n",
    "from sklearn.linear_model import LinearRegression, BayesianRidge\n",
    "from sklearn.svm import SVC\n",
    "from scipy.stats import linregress\n",
    "from allel import rogers_huff_r_between\n",
    "from scipy.spatial.distance import squareform\n",
    "from sklearn.preprocessing import normalize\n",
    "from scipy.stats import norm\n",
    "from scipy.stats import rankdata\n",
    "import matplotlib as mpl\n",
    "from matplotlib import rc,rcParams\n",
    "from pylab import *\n",
    "mpl.use(\"pgf\")\n",
    "# activate latex text rendering\n",
    "rc('text', usetex=True)\n",
    "rc('axes', linewidth=2)\n",
    "rc('font', weight='bold')\n",
    "mpl.rcParams.update({\n",
    "    \"pgf.texsystem\": \"pdflatex\",\n",
    "    'font.family': 'serif',\n",
    "    'text.usetex': True,\n",
    "    'pgf.rcfonts': False,\n",
    "    'text.latex.preamble':r'\\usepackage{sfmath} \\boldmath'\n",
    "})\n",
    "import matplotlib.pyplot as plt\n",
    "import matplotlib.pyplot as figure\n",
    "import seaborn as sns\n",
    "from seaborn import lineplot\n",
    "sns.set_theme(style=\"whitegrid\")"
   ]
  },
  {
   "cell_type": "code",
   "execution_count": 2,
   "metadata": {
    "ExecuteTime": {
     "end_time": "2021-04-14T15:24:16.809237Z",
     "start_time": "2021-04-14T15:24:16.753332Z"
    }
   },
   "outputs": [],
   "source": [
    "bloom_loci = pd.read_csv('/Users/vicious/Documents/ShiLab/PhenotypePrediction_GA/bloom_detected_QTL.csv')"
   ]
  },
  {
   "cell_type": "code",
   "execution_count": 5,
   "metadata": {
    "ExecuteTime": {
     "end_time": "2021-04-14T15:30:12.699413Z",
     "start_time": "2021-04-14T15:28:49.868787Z"
    }
   },
   "outputs": [],
   "source": [
    "genotype_file = '../data/genotype_full.txt'\n",
    "phenotype_file = '../data/phenotype.csv'\n",
    "def feature_ranking(score):\n",
    "    \"\"\"\n",
    "    Rank features in descending order according to their score, the larger the score, the more important the\n",
    "    feature is\n",
    "    \"\"\"\n",
    "    idx = np.argsort(score, 0)\n",
    "    return idx[::-1]\n",
    "\n",
    "\n",
    "def detect_outliers(df):\n",
    "    outlier_indices = []\n",
    "\n",
    "    Q1 = np.percentile(df, 25)\n",
    "    Q3 = np.percentile(df, 75)\n",
    "    IQR = Q3 - Q1\n",
    "    outlier_step = 1.5 * IQR\n",
    "\n",
    "    outlier_indices = df[(df < Q1 - outlier_step) |\n",
    "                         (df > Q3 + outlier_step)].index\n",
    "\n",
    "    return outlier_indices\n",
    "genotypes = pd.read_csv(genotype_file, sep='\\t', index_col=0)\n",
    "genotypes[genotypes == -1] = 0\n",
    "multi_pheno = pd.read_csv(phenotype_file, sep=',', index_col=0)"
   ]
  },
  {
   "cell_type": "markdown",
   "metadata": {},
   "source": [
    "## Direct Intersections"
   ]
  },
  {
   "cell_type": "code",
   "execution_count": 9,
   "metadata": {
    "ExecuteTime": {
     "end_time": "2021-04-14T15:32:55.649206Z",
     "start_time": "2021-04-14T15:31:42.527510Z"
    }
   },
   "outputs": [
    {
     "name": "stdout",
     "output_type": "stream",
     "text": [
      "\n",
      "0 > 1_CobaltChloride_1 :\n",
      "0.2 > {15104, 9825, 27047, 3210, 9358, 7022, 20567, 19032}\n",
      "0.3 > {15104, 9825, 13606, 27047, 26569, 3210, 9358, 7022, 20567, 19032}\n",
      "0.4 > {15104, 9825, 27047, 26569, 3210, 9358, 7022, 20567, 19032}\n",
      "0.5 > {15104, 9825, 27047, 26569, 3210, 9358, 7022, 14165, 20567, 19032}\n",
      "\n",
      "1 > 1_CopperSulfate_1 :\n",
      "0.2 > {11460, 17512, 20655, 19024, 4976, 25746, 12254}\n",
      "0.3 > {11460, 17512, 20655, 19024, 4976, 25746, 12254}\n",
      "0.4 > {11460, 17512, 20655, 19024, 4976, 25746, 12254}\n",
      "0.5 > {11460, 17512, 20655, 19024, 4976, 25746, 12254}\n",
      "\n",
      "2 > 1_Diamide_1 :\n",
      "0.2 > {11144, 17729, 23847}\n",
      "0.3 > {11144, 17729, 23847, 18575}\n",
      "0.4 > {17729, 23847, 11144, 12491, 18575}\n",
      "0.5 > {17729, 23847, 11144, 12491, 18575}\n",
      "\n",
      "3 > 1_E6-Berbamine_1 :\n",
      "0.2 > {4994, 27818, 23469, 4662, 12694, 28089, 574}\n",
      "0.3 > {4994, 23469, 4662, 12694, 28089, 574}\n",
      "0.4 > {4994, 23469, 4662, 12694, 28089, 574}\n",
      "0.5 > {4994, 20872, 23469, 4662, 12694, 28089, 574}\n",
      "\n",
      "4 > 1_Ethanol_1 :\n",
      "0.2 > {16187, 4834, 5033, 20655, 25397, 19064, 1691}\n",
      "0.3 > {4834, 20655, 25397, 19064, 16187, 1691}\n",
      "0.4 > {4834, 20655, 7152, 25397, 19064, 16187, 1691}\n",
      "0.5 > {16187, 4834, 5033, 20655, 7152, 25397, 19064, 1691}\n",
      "\n",
      "5 > 1_Formamide_1 :\n",
      "0.2 > {7235, 11143, 9199, 25747, 11931, 27420, 15485, 15870}\n",
      "0.3 > {7235, 11143, 9199, 25747, 11931, 27420, 15485, 15870}\n",
      "0.4 > {7235, 15870, 11143, 9199, 25747, 11931, 27420, 15485, 8350}\n",
      "0.5 > {7235, 2950, 11143, 15870, 9199, 25747, 11931, 27420, 15485, 8350}\n",
      "\n",
      "6 > 1_Hydroxyurea_1 :\n",
      "0.2 > {194, 13421, 24016, 25813, 22485, 24667}\n",
      "0.3 > {194, 13421, 24016, 25813, 22485, 24667}\n",
      "0.4 > {194, 13421, 24016, 25813, 22485, 24667}\n",
      "0.5 > {194, 13421, 24016, 25813, 22485, 24667}\n",
      "\n",
      "7 > 1_IndolaceticAcid_1 :\n",
      "0.2 > {21602, 11143}\n",
      "0.3 > {3144, 21602, 13781, 11143}\n",
      "0.4 > {21602, 13781, 11143}\n",
      "0.5 > {21602, 11143}\n",
      "\n",
      "8 > 1_Lactate_1 :\n",
      "0.2 > {7016, 19438, 59, 15356, 24637}\n",
      "0.3 > {7016, 15356, 19438, 59, 4636, 24637}\n",
      "0.4 > {5575, 7016, 15356, 19438, 59, 4636, 24637}\n",
      "0.5 > {24038, 7016, 15356, 19438, 59, 4636, 24637}\n",
      "\n",
      "9 > 1_Lactose_1 :\n",
      "0.2 > {24640, 18824, 5032, 7764, 22424, 7417, 20571}\n",
      "0.3 > {24640, 18824, 5032, 7764, 22424, 7417, 20571}\n",
      "0.4 > {24640, 18824, 5032, 7764, 22424, 7417, 20571}\n",
      "0.5 > {24640, 18824, 5032, 7764, 22424, 7417, 20571}\n"
     ]
    }
   ],
   "source": [
    "for phenoIndex in range(10):\n",
    "    print()\n",
    "    phenoName = multi_pheno.columns[phenoIndex]\n",
    "    print(phenoIndex,\">\",phenoName, \":\")\n",
    "    genes0 = pd.read_csv(f'experimentResults/PearsonCC_{phenoName}_LD_0.2_Intersection.csv')\n",
    "    genes1 = pd.read_csv(f'experimentResults/PearsonCC_{phenoName}_LD_0.3_Intersection.csv')\n",
    "    genes2 = pd.read_csv(f'experimentResults/PearsonCC_{phenoName}_LD_0.4_Intersection.csv')\n",
    "    genes3 = pd.read_csv(f'experimentResults/PearsonCC_{phenoName}_LD_0.5_Intersection.csv')\n",
    "    sets = {0.2:genes0, 0.3:genes1, 0.4:genes2, 0.5:genes3}\n",
    "    LD_generator = np.linspace(0.0, 1.0, num=100)\n",
    "    for (key, ggg) in sets.items():\n",
    "        g_expanded = set(list(np.where(ggg.to_numpy() == 1)[1]))\n",
    "        generator = set(bloom_loci[~bloom_loci.iloc[:, phenoIndex].isna()].iloc[:, phenoIndex].to_numpy().astype(int))\n",
    "        print(key, '>', g_expanded.intersection(generator))\n",
    "        "
   ]
  },
  {
   "cell_type": "markdown",
   "metadata": {},
   "source": [
    "## LD Concordance"
   ]
  },
  {
   "cell_type": "code",
   "execution_count": 5,
   "metadata": {
    "ExecuteTime": {
     "end_time": "2021-04-06T08:43:53.548219Z",
     "start_time": "2021-04-06T08:41:18.367766Z"
    }
   },
   "outputs": [
    {
     "name": "stdout",
     "output_type": "stream",
     "text": [
      "0\n",
      "1_CobaltChloride_1\n",
      "1\n",
      "1_CopperSulfate_1\n",
      "2\n",
      "1_Diamide_1\n",
      "3\n",
      "1_E6-Berbamine_1\n",
      "4\n",
      "1_Ethanol_1\n",
      "5\n",
      "1_Formamide_1\n",
      "6\n",
      "1_Hydroxyurea_1\n",
      "7\n",
      "1_IndolaceticAcid_1\n",
      "8\n",
      "1_Lactate_1\n",
      "9\n",
      "1_Lactose_1\n"
     ]
    },
    {
     "name": "stderr",
     "output_type": "stream",
     "text": [
      "<ipython-input-5-fb2ec6b80ecc>:82: UserWarning: This figure was using constrained_layout==True, but that is incompatible with subplots_adjust and or tight_layout: setting constrained_layout==False. \n",
      "  plt.subplots_adjust(wspace=0.1)\n",
      "<ipython-input-5-fb2ec6b80ecc>:89: UserWarning: Matplotlib is currently using pgf, which is a non-GUI backend, so cannot show the figure.\n",
      "  plt.show()\n"
     ]
    }
   ],
   "source": [
    "# plt.figure(num=None, figsize=(20, 12), dpi=80, facecolor='w', edgecolor='k')\n",
    "fig, axs = plt.subplots(4, 3, figsize=(22,12), dpi=400, constrained_layout=True)\n",
    "# fig.tight_layout()\n",
    "# plt.subplots_adjust(hspace = .5)\n",
    "for phenoIndex in range(10):\n",
    "    print(phenoIndex)\n",
    "    phenoName = multi_pheno.columns[phenoIndex]\n",
    "    print(phenoName)\n",
    "    phenotypes = multi_pheno.iloc[:, phenoIndex]\n",
    "    y = phenotypes\n",
    "    x = genotypes.to_numpy()\n",
    "\n",
    "    results =[]\n",
    "    \n",
    "    genes0 = pd.read_csv(f'experimentResults/PearsonCC_{phenoName}_LD_0.2_Intersection.csv')\n",
    "    genes1 = pd.read_csv(f'experimentResults/PearsonCC_{phenoName}_LD_0.3_Intersection.csv')\n",
    "    genes2 = pd.read_csv(f'experimentResults/PearsonCC_{phenoName}_LD_0.4_Intersection.csv')\n",
    "    genes3 = pd.read_csv(f'experimentResults/PearsonCC_{phenoName}_LD_0.5_Intersection.csv')\n",
    "\n",
    "\n",
    "    sets = {0.2:genes0, 0.3:genes1, 0.4:genes2, 0.5:genes3}\n",
    "    LD_generator = np.linspace(0.0, 1.0, num=100)\n",
    "    res = []\n",
    "    res_dummy = []\n",
    "    for (key, ggg) in sets.items():\n",
    "        g_expanded = list(np.where(ggg.to_numpy() == 1)[1])\n",
    "        generator = set(bloom_loci[~bloom_loci.iloc[:, phenoIndex].isna()].iloc[:, phenoIndex].to_numpy().astype(int))\n",
    "        for r2_threshold in sorted(LD_generator, reverse=True):\n",
    "            \n",
    "            r = rogers_huff_r_between(x[:, list(sorted(generator))].transpose(), x[:, g_expanded].transpose())\n",
    "            r2 = r ** 2\n",
    "            \n",
    "            for i, ind in enumerate(list(sorted(generator))):\n",
    "                if (r2[i, :] > r2_threshold).any():\n",
    "                    generator.remove(ind)\n",
    "                    res.append(r2_threshold)\n",
    "                    res_dummy.append(key)\n",
    "            \n",
    "    results.append(res)\n",
    "    results.append(res_dummy)\n",
    "\n",
    "    names = [\"y\", \"x\"]\n",
    "    results = np.array(results)\n",
    "    results = pd.DataFrame(data=results.T, columns=names, dtype=np.float32, copy=False)\n",
    "\n",
    "\n",
    "    ax = sns.violinplot(x='x', y='y', data=results,\n",
    "                        palette=\"flare\", ax=axs[phenoIndex//3, phenoIndex%3] if phenoIndex!=9 else axs[3,1],\n",
    "                        bw=.1, cut=0)\n",
    "    ax.set_ylim([0, 1.1])\n",
    "    ax.set_title(phenoName[2:-2], x=0.87, fontweight='bold', fontsize=17)\n",
    "\n",
    "fig.delaxes(axs[3,0])\n",
    "fig.delaxes(axs[3,2])\n",
    "for ax in axs.flat:\n",
    "    ax.set_xlabel(r'\\textbf{LD threshold}', fontsize=15)\n",
    "    ax.set_ylabel(r'\\textbf{LD concordance}', fontsize=15)\n",
    "    ax.xaxis.set_tick_params(labelsize=15)\n",
    "    ax.yaxis.set_tick_params(labelsize=15)\n",
    "\n",
    "for i in range (1, 3):\n",
    "    for j in range(2):\n",
    "        axs[j, i].label_outer()\n",
    "        axs[j, i].xaxis.set_ticklabels([])\n",
    "        axs[j, i].yaxis.set_ticklabels([])\n",
    "        axs[j, i].set_xlabel('')\n",
    "        axs[j, i].set_ylabel('')\n",
    "        \n",
    "axs[2, 1].label_outer()\n",
    "axs[2, 1].xaxis.set_ticklabels([])\n",
    "axs[2, 1].yaxis.set_ticklabels([])\n",
    "axs[2, 1].set_xlabel('')\n",
    "axs[2, 1].set_ylabel('')\n",
    "\n",
    "axs[2, 2].yaxis.set_ticklabels([])\n",
    "axs[2, 2].set_ylabel('')\n",
    "\n",
    "for i in range(2):\n",
    "    axs[i, 0].xaxis.set_ticklabels([])\n",
    "    axs[i, 0].set_xlabel('')\n",
    "\n",
    "plt.subplots_adjust(wspace=0.1)\n",
    "\n",
    "\n",
    "# Hide x labels and tick labels for top plots and y ticks for right plots.\n",
    "# for ax in axs.flat:\n",
    "#     ax.label_outer()\n",
    "    \n",
    "plt.show()\n"
   ]
  },
  {
   "cell_type": "code",
   "execution_count": 7,
   "metadata": {
    "ExecuteTime": {
     "end_time": "2021-04-06T08:46:58.943566Z",
     "start_time": "2021-04-06T08:44:22.054455Z"
    }
   },
   "outputs": [
    {
     "name": "stdout",
     "output_type": "stream",
     "text": [
      "0\n",
      "1_CobaltChloride_1\n",
      "1\n",
      "1_CopperSulfate_1\n",
      "2\n",
      "1_Diamide_1\n",
      "3\n",
      "1_E6-Berbamine_1\n",
      "4\n",
      "1_Ethanol_1\n",
      "5\n",
      "1_Formamide_1\n",
      "6\n",
      "1_Hydroxyurea_1\n",
      "7\n",
      "1_IndolaceticAcid_1\n",
      "8\n",
      "1_Lactate_1\n",
      "9\n",
      "1_Lactose_1\n"
     ]
    },
    {
     "name": "stderr",
     "output_type": "stream",
     "text": [
      "<ipython-input-7-c08922bc2d1f>:89: UserWarning: Matplotlib is currently using pgf, which is a non-GUI backend, so cannot show the figure.\n",
      "  plt.show()\n"
     ]
    }
   ],
   "source": [
    "# plt.figure(num=None, figsize=(20, 12), dpi=80, facecolor='w', edgecolor='k')\n",
    "fig, axs = plt.subplots(5, 2, figsize=(15,22), dpi=400, constrained_layout=True)\n",
    "# fig.tight_layout()\n",
    "# plt.subplots_adjust(hspace = .5)\n",
    "for phenoIndex in range(10):\n",
    "    print(phenoIndex)\n",
    "    phenoName = multi_pheno.columns[phenoIndex]\n",
    "    print(phenoName)\n",
    "    phenotypes = multi_pheno.iloc[:, phenoIndex]\n",
    "    y = phenotypes\n",
    "    x = genotypes.to_numpy()\n",
    "\n",
    "    results =[]\n",
    "    \n",
    "    genes0 = pd.read_csv(f'experimentResults/PearsonCC_{phenoName}_LD_0.2_Intersection.csv')\n",
    "    genes1 = pd.read_csv(f'experimentResults/PearsonCC_{phenoName}_LD_0.3_Intersection.csv')\n",
    "    genes2 = pd.read_csv(f'experimentResults/PearsonCC_{phenoName}_LD_0.4_Intersection.csv')\n",
    "    genes3 = pd.read_csv(f'experimentResults/PearsonCC_{phenoName}_LD_0.5_Intersection.csv')\n",
    "\n",
    "\n",
    "    sets = {0.2:genes0, 0.3:genes1, 0.4:genes2, 0.5:genes3}\n",
    "    LD_generator = np.linspace(0.0, 1.0, num=100)\n",
    "    res = []\n",
    "    res_dummy = []\n",
    "    for (key, ggg) in sets.items():\n",
    "        g_expanded = list(np.where(ggg.to_numpy() == 1)[1])\n",
    "        generator = set(bloom_loci[~bloom_loci.iloc[:, phenoIndex].isna()].iloc[:, phenoIndex].to_numpy().astype(int))\n",
    "        for r2_threshold in sorted(LD_generator, reverse=True):\n",
    "            \n",
    "            r = rogers_huff_r_between(x[:, list(sorted(generator))].transpose(), x[:, g_expanded].transpose())\n",
    "            r2 = r ** 2\n",
    "            \n",
    "            for i, ind in enumerate(list(sorted(generator))):\n",
    "                if (r2[i, :] > r2_threshold).any():\n",
    "                    generator.remove(ind)\n",
    "                    res.append(r2_threshold)\n",
    "                    res_dummy.append(key)\n",
    "            \n",
    "    results.append(res)\n",
    "    results.append(res_dummy)\n",
    "\n",
    "    names = [\"y\", \"x\"]\n",
    "    results = np.array(results)\n",
    "    results = pd.DataFrame(data=results.T, columns=names, dtype=np.float32, copy=False)\n",
    "\n",
    "\n",
    "    ax = sns.violinplot(x='x', y='y', data=results,\n",
    "                        palette=\"flare\", ax=axs[phenoIndex//2, phenoIndex%2],\n",
    "                        bw=.1, cut=0)\n",
    "    ax.set_ylim([0, 1.1])\n",
    "    ax.set_title(phenoName[2:-2], x=0.87, fontweight='bold', fontsize=17)\n",
    "\n",
    "# fig.delaxes(axs[3,0])\n",
    "# fig.delaxes(axs[3,2])\n",
    "for ax in axs.flat:\n",
    "    ax.set_xlabel(r'\\textbf{LD threshold}', fontsize=15)\n",
    "    ax.set_ylabel(r'\\textbf{LD concordance}', fontsize=15)\n",
    "    ax.xaxis.set_tick_params(labelsize=15)\n",
    "    ax.yaxis.set_tick_params(labelsize=15)\n",
    "\n",
    "# for i in range (1, 3):\n",
    "#     for j in range(2):\n",
    "#         axs[j, i].label_outer()\n",
    "#         axs[j, i].xaxis.set_ticklabels([])\n",
    "#         axs[j, i].yaxis.set_ticklabels([])\n",
    "#         axs[j, i].set_xlabel('')\n",
    "#         axs[j, i].set_ylabel('')\n",
    "        \n",
    "# axs[2, 1].label_outer()\n",
    "# axs[2, 1].xaxis.set_ticklabels([])\n",
    "# axs[2, 1].yaxis.set_ticklabels([])\n",
    "# axs[2, 1].set_xlabel('')\n",
    "# axs[2, 1].set_ylabel('')\n",
    "\n",
    "# axs[2, 2].yaxis.set_ticklabels([])\n",
    "# axs[2, 2].set_ylabel('')\n",
    "\n",
    "# for i in range(2):\n",
    "#     axs[i, 0].xaxis.set_ticklabels([])\n",
    "#     axs[i, 0].set_xlabel('')\n",
    "\n",
    "# plt.subplots_adjust(wspace=0.1)\n",
    "\n",
    "\n",
    "# Hide x labels and tick labels for top plots and y ticks for right plots.\n",
    "for ax in axs.flat:\n",
    "    ax.label_outer()\n",
    "    \n",
    "plt.show()\n",
    "\n"
   ]
  },
  {
   "cell_type": "code",
   "execution_count": 10,
   "metadata": {
    "ExecuteTime": {
     "end_time": "2021-04-02T10:26:36.432911Z",
     "start_time": "2021-04-02T10:26:25.524740Z"
    }
   },
   "outputs": [],
   "source": [
    "plt.savefig(\"bloom_concordance.png\", bbox_inches='tight', format=\"png\", dpi=400)"
   ]
  },
  {
   "cell_type": "code",
   "execution_count": 35,
   "metadata": {
    "ExecuteTime": {
     "end_time": "2021-03-25T13:33:37.815483Z",
     "start_time": "2021-03-25T13:33:36.688698Z"
    }
   },
   "outputs": [],
   "source": [
    "plt.savefig(\"bloom_concordance.pgf\", bbox_inches='tight', format=\"pgf\", dpi=400)"
   ]
  },
  {
   "cell_type": "code",
   "execution_count": 11,
   "metadata": {
    "ExecuteTime": {
     "end_time": "2021-04-02T10:26:45.532900Z",
     "start_time": "2021-04-02T10:26:36.437504Z"
    }
   },
   "outputs": [],
   "source": [
    "plt.savefig(\"bloom_concordance.svg\", bbox_inches='tight', format=\"svg\", dpi=400)"
   ]
  },
  {
   "cell_type": "code",
   "execution_count": 8,
   "metadata": {
    "ExecuteTime": {
     "end_time": "2021-04-06T08:47:03.782476Z",
     "start_time": "2021-04-06T08:46:58.947287Z"
    }
   },
   "outputs": [],
   "source": [
    "plt.savefig(\"Figure 1.pdf\", bbox_inches='tight', format=\"pdf\", dpi=600)"
   ]
  },
  {
   "cell_type": "code",
   "execution_count": null,
   "metadata": {},
   "outputs": [],
   "source": []
  }
 ],
 "metadata": {
  "@webio": {
   "lastCommId": null,
   "lastKernelId": null
  },
  "kernelspec": {
   "display_name": "Python 3",
   "language": "python",
   "name": "python3"
  },
  "language_info": {
   "codemirror_mode": {
    "name": "ipython",
    "version": 3
   },
   "file_extension": ".py",
   "mimetype": "text/x-python",
   "name": "python",
   "nbconvert_exporter": "python",
   "pygments_lexer": "ipython3",
   "version": "3.8.6"
  }
 },
 "nbformat": 4,
 "nbformat_minor": 4
}
