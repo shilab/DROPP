{
 "cells": [
  {
   "cell_type": "code",
   "execution_count": 1,
   "metadata": {
    "ExecuteTime": {
     "end_time": "2021-06-28T15:18:04.671692Z",
     "start_time": "2021-06-28T15:17:51.380493Z"
    }
   },
   "outputs": [],
   "source": [
    "import numpy as np\n",
    "np.random.seed(seed=28213)\n",
    "import pandas as pd\n",
    "from sklearn.metrics import mean_squared_error, accuracy_score, f1_score, make_scorer\n",
    "from sklearn.model_selection import train_test_split, cross_val_score\n",
    "from sklearn.linear_model import LinearRegression, BayesianRidge\n",
    "from sklearn.svm import SVC\n",
    "from scipy.stats import linregress\n",
    "from allel import rogers_huff_r_between\n",
    "from scipy.spatial.distance import squareform\n",
    "from sklearn.preprocessing import normalize\n",
    "from scipy.stats import norm\n",
    "from scipy.stats import rankdata\n",
    "import matplotlib as mpl\n",
    "from matplotlib import rc,rcParams\n",
    "from pylab import *\n",
    "mpl.use(\"pgf\")\n",
    "# activate latex text rendering\n",
    "rc('text', usetex=True)\n",
    "rc('axes', linewidth=2)\n",
    "rc('font', weight='bold')\n",
    "mpl.rcParams.update({\n",
    "    \"pgf.texsystem\": \"pdflatex\",\n",
    "    'font.family': 'serif',\n",
    "    'text.usetex': True,\n",
    "    'pgf.rcfonts': False,\n",
    "    'text.latex.preamble':r'\\usepackage{sfmath} \\boldmath'\n",
    "})\n",
    "import matplotlib.pyplot as plt\n",
    "import matplotlib.pyplot as figure\n",
    "import seaborn as sns\n",
    "from seaborn import lineplot\n",
    "sns.set_theme(style=\"whitegrid\")"
   ]
  },
  {
   "cell_type": "code",
   "execution_count": 2,
   "metadata": {
    "ExecuteTime": {
     "end_time": "2021-06-28T15:18:04.717807Z",
     "start_time": "2021-06-28T15:18:04.674833Z"
    }
   },
   "outputs": [],
   "source": [
    "bloom_loci = pd.read_csv('/Users/vicious/Documents/ShiLab/PhenotypePrediction_GA/bloom_detected_QTL.csv')"
   ]
  },
  {
   "cell_type": "code",
   "execution_count": 4,
   "metadata": {
    "ExecuteTime": {
     "end_time": "2021-06-28T15:19:36.343922Z",
     "start_time": "2021-06-28T15:18:11.012335Z"
    }
   },
   "outputs": [],
   "source": [
    "genotype_file = '../data/genotype_full.txt'\n",
    "phenotype_file = '../data/phenotype.csv'\n",
    "def feature_ranking(score):\n",
    "    \"\"\"\n",
    "    Rank features in descending order according to their score, the larger the score, the more important the\n",
    "    feature is\n",
    "    \"\"\"\n",
    "    idx = np.argsort(score, 0)\n",
    "    return idx[::-1]\n",
    "\n",
    "\n",
    "def detect_outliers(df):\n",
    "    outlier_indices = []\n",
    "\n",
    "    Q1 = np.percentile(df, 25)\n",
    "    Q3 = np.percentile(df, 75)\n",
    "    IQR = Q3 - Q1\n",
    "    outlier_step = 1.5 * IQR\n",
    "\n",
    "    outlier_indices = df[(df < Q1 - outlier_step) |\n",
    "                         (df > Q3 + outlier_step)].index\n",
    "\n",
    "    return outlier_indices\n",
    "genotypes = pd.read_csv(genotype_file, sep='\\t', index_col=0)\n",
    "genotypes[genotypes == -1] = 0\n",
    "multi_pheno = pd.read_csv(phenotype_file, sep=',', index_col=0)"
   ]
  },
  {
   "cell_type": "markdown",
   "metadata": {},
   "source": [
    "## Direct Intersections"
   ]
  },
  {
   "cell_type": "code",
   "execution_count": 5,
   "metadata": {
    "ExecuteTime": {
     "end_time": "2021-06-28T15:21:30.267548Z",
     "start_time": "2021-06-28T15:19:36.346962Z"
    }
   },
   "outputs": [
    {
     "name": "stdout",
     "output_type": "stream",
     "text": [
      "\n",
      "0 > 1_CobaltChloride_1 :\n",
      "[3210, 7022, 9358, 9825, 15104, 19032, 20567, 27047]\n",
      "\n",
      "1 > 1_CopperSulfate_1 :\n",
      "[4976, 11460, 12254, 17512, 19024, 20655, 25746]\n",
      "\n",
      "2 > 1_Diamide_1 :\n",
      "[11144, 17729]\n",
      "\n",
      "3 > 1_E6-Berbamine_1 :\n",
      "[574, 4662, 4994, 12694, 23469, 28089]\n",
      "\n",
      "4 > 1_Ethanol_1 :\n",
      "[1691, 4834, 16187, 19064, 20655, 25397]\n",
      "\n",
      "5 > 1_Formamide_1 :\n",
      "[7235, 9199, 11143, 11931, 15485, 15870, 25747]\n",
      "\n",
      "6 > 1_Hydroxyurea_1 :\n",
      "[13421, 22485, 24016, 24667, 25813]\n",
      "\n",
      "7 > 1_IndolaceticAcid_1 :\n",
      "[11143, 21602]\n",
      "\n",
      "8 > 1_Lactate_1 :\n",
      "[59, 7016, 15356, 19438, 24637]\n",
      "\n",
      "9 > 1_Lactose_1 :\n",
      "[5032, 7417, 7764, 18824, 20571, 22424, 24640]\n"
     ]
    }
   ],
   "source": [
    "for phenoIndex in range(10):\n",
    "    print()\n",
    "    phenoName = multi_pheno.columns[phenoIndex]\n",
    "    print(phenoIndex,\">\",phenoName, \":\")\n",
    "    genes0 = pd.read_csv(f'experimentResults/PearsonCC_{phenoName}_LD_0.2_Intersection.csv')\n",
    "    genes1 = pd.read_csv(f'experimentResults/PearsonCC_{phenoName}_LD_0.3_Intersection.csv')\n",
    "    genes2 = pd.read_csv(f'experimentResults/PearsonCC_{phenoName}_LD_0.4_Intersection.csv')\n",
    "    genes3 = pd.read_csv(f'experimentResults/PearsonCC_{phenoName}_LD_0.5_Intersection.csv')\n",
    "    genes4 = pd.read_csv(f'experimentResults/PearsonCC_{phenoName}_LD_0.6_Intersection.csv')\n",
    "    genes5 = pd.read_csv(f'experimentResults/PearsonCC_{phenoName}_LD_0.7_Intersection.csv')\n",
    "    sets = {0.2:genes0, 0.3:genes1, 0.4:genes2, 0.5:genes3, 0.6:genes4, 0.7:genes5}\n",
    "    LD_generator = np.linspace(0.0, 1.0, num=100)\n",
    "    intersects = []\n",
    "    for (key, ggg) in sets.items():\n",
    "        g_expanded = set(list(np.where(ggg.to_numpy() == 1)[1]))\n",
    "        intersects.append(g_expanded)\n",
    "    generator = set(bloom_loci[~bloom_loci.iloc[:, phenoIndex].isna()].iloc[:, phenoIndex].to_numpy().astype(int))\n",
    "    gg = set(intersects[0]).intersection(*intersects[1:])\n",
    "    print(list(sorted(gg.intersection(generator))))\n",
    "        "
   ]
  },
  {
   "cell_type": "markdown",
   "metadata": {},
   "source": [
    "## LD Concordance"
   ]
  },
  {
   "cell_type": "code",
   "execution_count": null,
   "metadata": {
    "ExecuteTime": {
     "end_time": "2021-06-21T08:25:30.240941Z",
     "start_time": "2021-06-21T08:22:40.586094Z"
    }
   },
   "outputs": [],
   "source": [
    "# plt.figure(num=None, figsize=(20, 12), dpi=80, facecolor='w', edgecolor='k')\n",
    "fig, axs = plt.subplots(4, 3, figsize=(22,12), dpi=400, constrained_layout=True)\n",
    "# fig.tight_layout()\n",
    "# plt.subplots_adjust(hspace = .5)\n",
    "for phenoIndex in range(10):\n",
    "    print(phenoIndex)\n",
    "    phenoName = multi_pheno.columns[phenoIndex]\n",
    "    print(phenoName)\n",
    "    phenotypes = multi_pheno.iloc[:, phenoIndex]\n",
    "    y = phenotypes\n",
    "    x = genotypes.to_numpy()\n",
    "\n",
    "    results =[]\n",
    "    \n",
    "    genes0 = pd.read_csv(f'experimentResults/PearsonCC_{phenoName}_LD_0.2_Intersection.csv')\n",
    "    genes1 = pd.read_csv(f'experimentResults/PearsonCC_{phenoName}_LD_0.3_Intersection.csv')\n",
    "    genes2 = pd.read_csv(f'experimentResults/PearsonCC_{phenoName}_LD_0.4_Intersection.csv')\n",
    "    genes3 = pd.read_csv(f'experimentResults/PearsonCC_{phenoName}_LD_0.5_Intersection.csv')\n",
    "    genes4 = pd.read_csv(f'experimentResults/PearsonCC_{phenoName}_LD_0.6_Intersection.csv')\n",
    "    genes5 = pd.read_csv(f'experimentResults/PearsonCC_{phenoName}_LD_0.7_Intersection.csv')\n",
    "    \n",
    "\n",
    "    sets = {0.2:genes0, 0.3:genes1, 0.4:genes2, 0.5:genes3, 0.6:genes4, 0.7:genes5}\n",
    "    LD_generator = np.linspace(0.0, 1.0, num=100)\n",
    "    res = []\n",
    "    res_dummy = []\n",
    "    for (key, ggg) in sets.items():\n",
    "        g_expanded = list(np.where(ggg.to_numpy() == 1)[1])\n",
    "        generator = set(bloom_loci[~bloom_loci.iloc[:, phenoIndex].isna()].iloc[:, phenoIndex].to_numpy().astype(int))\n",
    "        for r2_threshold in sorted(LD_generator, reverse=True):\n",
    "            \n",
    "            r = rogers_huff_r_between(x[:, list(sorted(generator))].transpose(), x[:, g_expanded].transpose())\n",
    "            r2 = r ** 2\n",
    "            \n",
    "            for i, ind in enumerate(list(sorted(generator))):\n",
    "                if (r2[i, :] > r2_threshold).any():\n",
    "                    generator.remove(ind)\n",
    "                    res.append(r2_threshold)\n",
    "                    res_dummy.append(key)\n",
    "            \n",
    "    results.append(res)\n",
    "    results.append(res_dummy)\n",
    "\n",
    "    names = [\"y\", \"x\"]\n",
    "    results = np.array(results)\n",
    "    results = pd.DataFrame(data=results.T, columns=names, dtype=np.float32, copy=False)\n",
    "\n",
    "\n",
    "    ax = sns.violinplot(x='x', y='y', data=results,\n",
    "                        palette=\"flare\", ax=axs[phenoIndex//3, phenoIndex%3] if phenoIndex!=9 else axs[3,1],\n",
    "                        bw=.1, cut=0)\n",
    "    ax.set_ylim([0, 1.1])\n",
    "    ax.set_title(phenoName[2:-2], x=0.87, fontweight='bold', fontsize=17)\n",
    "\n",
    "fig.delaxes(axs[3,0])\n",
    "fig.delaxes(axs[3,2])\n",
    "for ax in axs.flat:\n",
    "    ax.set_xlabel(r'\\textbf{LD threshold}', fontsize=15)\n",
    "    ax.set_ylabel(r'\\textbf{LD concordance}', fontsize=15)\n",
    "    ax.xaxis.set_tick_params(labelsize=15)\n",
    "    ax.yaxis.set_tick_params(labelsize=15)\n",
    "\n",
    "for i in range (1, 3):\n",
    "    for j in range(2):\n",
    "        axs[j, i].label_outer()\n",
    "        axs[j, i].xaxis.set_ticklabels([])\n",
    "        axs[j, i].yaxis.set_ticklabels([])\n",
    "        axs[j, i].set_xlabel('')\n",
    "        axs[j, i].set_ylabel('')\n",
    "        \n",
    "axs[2, 1].label_outer()\n",
    "axs[2, 1].xaxis.set_ticklabels([])\n",
    "axs[2, 1].yaxis.set_ticklabels([])\n",
    "axs[2, 1].set_xlabel('')\n",
    "axs[2, 1].set_ylabel('')\n",
    "\n",
    "axs[2, 2].yaxis.set_ticklabels([])\n",
    "axs[2, 2].set_ylabel('')\n",
    "\n",
    "for i in range(2):\n",
    "    axs[i, 0].xaxis.set_ticklabels([])\n",
    "    axs[i, 0].set_xlabel('')\n",
    "\n",
    "plt.subplots_adjust(wspace=0.1)\n",
    "\n",
    "\n",
    "# Hide x labels and tick labels for top plots and y ticks for right plots.\n",
    "# for ax in axs.flat:\n",
    "#     ax.label_outer()\n",
    "    \n",
    "plt.show()\n"
   ]
  },
  {
   "cell_type": "code",
   "execution_count": 8,
   "metadata": {
    "ExecuteTime": {
     "end_time": "2021-06-21T08:35:31.075729Z",
     "start_time": "2021-06-21T08:31:27.178017Z"
    }
   },
   "outputs": [
    {
     "name": "stdout",
     "output_type": "stream",
     "text": [
      "0\n",
      "1_CobaltChloride_1\n",
      "1\n",
      "1_CopperSulfate_1\n",
      "2\n",
      "1_Diamide_1\n",
      "3\n",
      "1_E6-Berbamine_1\n",
      "4\n",
      "1_Ethanol_1\n",
      "5\n",
      "1_Formamide_1\n",
      "6\n",
      "1_Hydroxyurea_1\n",
      "7\n",
      "1_IndolaceticAcid_1\n",
      "8\n",
      "1_Lactate_1\n",
      "9\n",
      "1_Lactose_1\n"
     ]
    },
    {
     "name": "stderr",
     "output_type": "stream",
     "text": [
      "<ipython-input-8-787eb1ebf63e>:92: UserWarning: Matplotlib is currently using pgf, which is a non-GUI backend, so cannot show the figure.\n",
      "  plt.show()\n"
     ]
    }
   ],
   "source": [
    "# plt.figure(num=None, figsize=(20, 12), dpi=80, facecolor='w', edgecolor='k')\n",
    "fig, axs = plt.subplots(5, 2, figsize=(15,22), dpi=400, constrained_layout=True)\n",
    "# fig.tight_layout()\n",
    "# plt.subplots_adjust(hspace = .5)\n",
    "for phenoIndex in range(10):\n",
    "    print(phenoIndex)\n",
    "    phenoName = multi_pheno.columns[phenoIndex]\n",
    "    print(phenoName)\n",
    "    phenotypes = multi_pheno.iloc[:, phenoIndex]\n",
    "    y = phenotypes\n",
    "    x = genotypes.to_numpy()\n",
    "\n",
    "    results =[]\n",
    "    \n",
    "    genes0 = pd.read_csv(f'experimentResults/PearsonCC_{phenoName}_LD_0.2_Intersection.csv')\n",
    "    genes1 = pd.read_csv(f'experimentResults/PearsonCC_{phenoName}_LD_0.3_Intersection.csv')\n",
    "    genes2 = pd.read_csv(f'experimentResults/PearsonCC_{phenoName}_LD_0.4_Intersection.csv')\n",
    "    genes3 = pd.read_csv(f'experimentResults/PearsonCC_{phenoName}_LD_0.5_Intersection.csv')\n",
    "    genes4 = pd.read_csv(f'experimentResults/PearsonCC_{phenoName}_LD_0.6_Intersection.csv')\n",
    "    genes5 = pd.read_csv(f'experimentResults/PearsonCC_{phenoName}_LD_0.7_Intersection.csv')\n",
    "    \n",
    "\n",
    "    sets = {0.2:genes0, 0.3:genes1, 0.4:genes2, 0.5:genes3, 0.6:genes4, 0.7:genes5}\n",
    "\n",
    "    LD_generator = np.linspace(0.0, 1.0, num=100)\n",
    "    res = []\n",
    "    res_dummy = []\n",
    "    for (key, ggg) in sets.items():\n",
    "        g_expanded = list(np.where(ggg.to_numpy() == 1)[1])\n",
    "        generator = set(bloom_loci[~bloom_loci.iloc[:, phenoIndex].isna()].iloc[:, phenoIndex].to_numpy().astype(int))\n",
    "        for r2_threshold in sorted(LD_generator, reverse=True):\n",
    "            \n",
    "            r = rogers_huff_r_between(x[:, list(sorted(generator))].transpose(), x[:, g_expanded].transpose())\n",
    "            r2 = r ** 2\n",
    "            \n",
    "            for i, ind in enumerate(list(sorted(generator))):\n",
    "                if (r2[i, :] > r2_threshold).any():\n",
    "                    generator.remove(ind)\n",
    "                    res.append(r2_threshold)\n",
    "                    res_dummy.append(key)\n",
    "            \n",
    "    results.append(res)\n",
    "    results.append(res_dummy)\n",
    "\n",
    "    names = [\"y\", \"x\"]\n",
    "    results = np.array(results)\n",
    "    results = pd.DataFrame(data=results.T, columns=names, dtype=np.float32, copy=False)\n",
    "\n",
    "\n",
    "    ax = sns.violinplot(x='x', y='y', data=results,\n",
    "                        palette=\"flare\", ax=axs[phenoIndex//2, phenoIndex%2],\n",
    "                        bw=.1, cut=0)\n",
    "    ax.set_ylim([0, 1.1])\n",
    "    ax.set_title(phenoName[2:-2], x=0.87, fontweight='bold', fontsize=17)\n",
    "\n",
    "# fig.delaxes(axs[3,0])\n",
    "# fig.delaxes(axs[3,2])\n",
    "for ax in axs.flat:\n",
    "    ax.set_xlabel(r'\\textbf{LD threshold}', fontsize=15)\n",
    "    ax.set_ylabel(r'\\textbf{LD concordance}', fontsize=15)\n",
    "    ax.xaxis.set_tick_params(labelsize=15)\n",
    "    ax.yaxis.set_tick_params(labelsize=15)\n",
    "\n",
    "# for i in range (1, 3):\n",
    "#     for j in range(2):\n",
    "#         axs[j, i].label_outer()\n",
    "#         axs[j, i].xaxis.set_ticklabels([])\n",
    "#         axs[j, i].yaxis.set_ticklabels([])\n",
    "#         axs[j, i].set_xlabel('')\n",
    "#         axs[j, i].set_ylabel('')\n",
    "        \n",
    "# axs[2, 1].label_outer()\n",
    "# axs[2, 1].xaxis.set_ticklabels([])\n",
    "# axs[2, 1].yaxis.set_ticklabels([])\n",
    "# axs[2, 1].set_xlabel('')\n",
    "# axs[2, 1].set_ylabel('')\n",
    "\n",
    "# axs[2, 2].yaxis.set_ticklabels([])\n",
    "# axs[2, 2].set_ylabel('')\n",
    "\n",
    "# for i in range(2):\n",
    "#     axs[i, 0].xaxis.set_ticklabels([])\n",
    "#     axs[i, 0].set_xlabel('')\n",
    "\n",
    "# plt.subplots_adjust(wspace=0.1)\n",
    "\n",
    "\n",
    "# Hide x labels and tick labels for top plots and y ticks for right plots.\n",
    "for ax in axs.flat:\n",
    "    ax.label_outer()\n",
    "    \n",
    "plt.show()\n",
    "\n"
   ]
  },
  {
   "cell_type": "code",
   "execution_count": 10,
   "metadata": {
    "ExecuteTime": {
     "end_time": "2021-04-02T10:26:36.432911Z",
     "start_time": "2021-04-02T10:26:25.524740Z"
    }
   },
   "outputs": [],
   "source": [
    "plt.savefig(\"bloom_concordance.png\", bbox_inches='tight', format=\"png\", dpi=400)"
   ]
  },
  {
   "cell_type": "code",
   "execution_count": 35,
   "metadata": {
    "ExecuteTime": {
     "end_time": "2021-03-25T13:33:37.815483Z",
     "start_time": "2021-03-25T13:33:36.688698Z"
    }
   },
   "outputs": [],
   "source": [
    "plt.savefig(\"bloom_concordance.pgf\", bbox_inches='tight', format=\"pgf\", dpi=400)"
   ]
  },
  {
   "cell_type": "code",
   "execution_count": 11,
   "metadata": {
    "ExecuteTime": {
     "end_time": "2021-04-02T10:26:45.532900Z",
     "start_time": "2021-04-02T10:26:36.437504Z"
    }
   },
   "outputs": [],
   "source": [
    "plt.savefig(\"bloom_concordance.svg\", bbox_inches='tight', format=\"svg\", dpi=400)"
   ]
  },
  {
   "cell_type": "code",
   "execution_count": 9,
   "metadata": {
    "ExecuteTime": {
     "end_time": "2021-06-21T08:35:37.543712Z",
     "start_time": "2021-06-21T08:35:31.078677Z"
    }
   },
   "outputs": [],
   "source": [
    "plt.savefig(\"Figure 1.pdf\", bbox_inches='tight', format=\"pdf\", dpi=600)"
   ]
  },
  {
   "cell_type": "code",
   "execution_count": null,
   "metadata": {},
   "outputs": [],
   "source": []
  }
 ],
 "metadata": {
  "@webio": {
   "lastCommId": null,
   "lastKernelId": null
  },
  "kernelspec": {
   "display_name": "Python 3",
   "language": "python",
   "name": "python3"
  },
  "language_info": {
   "codemirror_mode": {
    "name": "ipython",
    "version": 3
   },
   "file_extension": ".py",
   "mimetype": "text/x-python",
   "name": "python",
   "nbconvert_exporter": "python",
   "pygments_lexer": "ipython3",
   "version": "3.8.6"
  },
  "toc": {
   "base_numbering": 1,
   "nav_menu": {},
   "number_sections": true,
   "sideBar": true,
   "skip_h1_title": false,
   "title_cell": "Table of Contents",
   "title_sidebar": "Contents",
   "toc_cell": false,
   "toc_position": {},
   "toc_section_display": true,
   "toc_window_display": false
  }
 },
 "nbformat": 4,
 "nbformat_minor": 4
}
